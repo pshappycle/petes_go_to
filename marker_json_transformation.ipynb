{
 "cells": [
  {
   "cell_type": "code",
   "execution_count": 9,
   "metadata": {},
   "outputs": [],
   "source": [
    "import pandas as pd\n",
    "import csv\n",
    "import json"
   ]
  },
  {
   "cell_type": "code",
   "execution_count": 10,
   "metadata": {},
   "outputs": [
    {
     "name": "stdout",
     "output_type": "stream",
     "text": [
      "[OrderedDict([('Name', 'Kuxe'), ('Type', 'Resturant'), ('Street', '205 Thompson St'), ('City', 'New York'), ('State', 'NY'), ('Zip', '10012'), ('Latitude', '40.72859'), ('Longitude', '-73.99959')]), OrderedDict([('Name', 'Common Ground'), ('Type', 'Club'), ('Street', '63 Gansevoort St'), ('City', 'New York'), ('State', 'NY'), ('Zip', '10014'), ('Latitude', '40.739498'), ('Longitude', '-74.007263')])]\n"
     ]
    }
   ],
   "source": [
    "with open(\"markers.csv\", \"r\") as f:\n",
    "        reader = csv.DictReader(f)\n",
    "        marks = list(reader)\n",
    "        print(a)"
   ]
  },
  {
   "cell_type": "code",
   "execution_count": 11,
   "metadata": {},
   "outputs": [],
   "source": [
    "with open('transformation.json', 'w') as outfile:\n",
    "    json.dump(marks, outfile)"
   ]
  },
  {
   "cell_type": "code",
   "execution_count": null,
   "metadata": {},
   "outputs": [],
   "source": []
  }
 ],
 "metadata": {
  "kernelspec": {
   "display_name": "Python 3.7.4 64-bit ('base': conda)",
   "language": "python",
   "name": "python37464bitbaseconda2734dc85727c41ab9ce8391526dbb498"
  },
  "language_info": {
   "codemirror_mode": {
    "name": "ipython",
    "version": 3
   },
   "file_extension": ".py",
   "mimetype": "text/x-python",
   "name": "python",
   "nbconvert_exporter": "python",
   "pygments_lexer": "ipython3",
   "version": "3.7.4"
  }
 },
 "nbformat": 4,
 "nbformat_minor": 2
}
